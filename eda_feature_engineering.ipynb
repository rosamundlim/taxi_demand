{
 "cells": [
  {
   "cell_type": "markdown",
   "metadata": {},
   "source": [
    "#### Import Libraries"
   ]
  },
  {
   "cell_type": "code",
   "execution_count": 2,
   "metadata": {},
   "outputs": [],
   "source": [
    "from keplergl import KeplerGl\n",
    "import polars as pl\n",
    "import matplotlib.pyplot as plt\n",
    "from src import clean_data\n",
    "import geohash2\n",
    "\n",
    "# Enable autoreload extension and set autoreload mode to automatically reload all modules\n",
    "%load_ext autoreload\n",
    "%autoreload 2"
   ]
  },
  {
   "cell_type": "markdown",
   "metadata": {},
   "source": [
    "#### Download data"
   ]
  },
  {
   "cell_type": "code",
   "execution_count": 29,
   "metadata": {},
   "outputs": [],
   "source": [
    "jan_trip_path = './data/yellow_tripdata_2016-01.csv'"
   ]
  },
  {
   "cell_type": "markdown",
   "metadata": {},
   "source": [
    "#### Clean Data in Jan, Feb, Mar"
   ]
  },
  {
   "cell_type": "markdown",
   "metadata": {},
   "source": [
    "Test with Jan 2016 data first"
   ]
  },
  {
   "cell_type": "code",
   "execution_count": 30,
   "metadata": {},
   "outputs": [],
   "source": [
    "df_jan = pl.read_csv(jan_trip_path, try_parse_dates=True)"
   ]
  },
  {
   "cell_type": "code",
   "execution_count": null,
   "metadata": {},
   "outputs": [
    {
     "name": "stdout",
     "output_type": "stream",
     "text": [
      "Jan 2016 observation: 10,906,858 rows\n",
      "Feb 2016 observation: 11,382,049 rows\n",
      "Mar 2016 observation: 12,210,952 rows\n"
     ]
    }
   ],
   "source": [
    "# check shape of data\n",
    "print(f'Jan 2016 observation: {df_jan.shape[0]:,} rows')"
   ]
  },
  {
   "cell_type": "code",
   "execution_count": 22,
   "metadata": {},
   "outputs": [],
   "source": [
    "# keep priority columns\n",
    "priority_columns = [\"tpep_pickup_datetime\",\n",
    "                    \"pickup_longitude\",\n",
    "                    \"pickup_latitude\",\n",
    "                    ]\n",
    "df_jan = df_jan.select(priority_columns)"
   ]
  },
  {
   "cell_type": "code",
   "execution_count": 23,
   "metadata": {},
   "outputs": [
    {
     "name": "stdout",
     "output_type": "stream",
     "text": [
      "Schema([('tpep_pickup_datetime', Datetime(time_unit='us', time_zone=None)), ('pickup_longitude', Float64), ('pickup_latitude', Float64)])\n",
      "Schema([('tpep_pickup_datetime', Datetime(time_unit='us', time_zone=None)), ('pickup_longitude', Float64), ('pickup_latitude', Float64)])\n",
      "Schema([('tpep_pickup_datetime', Datetime(time_unit='us', time_zone=None)), ('pickup_longitude', Float64), ('pickup_latitude', Float64)])\n"
     ]
    }
   ],
   "source": [
    "# inspect schema\n",
    "print(df_jan.schema)"
   ]
  },
  {
   "cell_type": "markdown",
   "metadata": {},
   "source": [
    "Remove nulls and outside of NYC"
   ]
  },
  {
   "cell_type": "code",
   "execution_count": 24,
   "metadata": {},
   "outputs": [
    {
     "data": {
      "text/html": [
       "<div><style>\n",
       ".dataframe > thead > tr,\n",
       ".dataframe > tbody > tr {\n",
       "  text-align: right;\n",
       "  white-space: pre-wrap;\n",
       "}\n",
       "</style>\n",
       "<small>shape: (170_212, 3)</small><table border=\"1\" class=\"dataframe\"><thead><tr><th>tpep_pickup_datetime</th><th>pickup_longitude</th><th>pickup_latitude</th></tr><tr><td>datetime[μs]</td><td>f64</td><td>f64</td></tr></thead><tbody><tr><td>2016-01-01 00:00:19</td><td>0.0</td><td>0.0</td></tr><tr><td>2016-01-01 00:00:41</td><td>0.0</td><td>0.0</td></tr><tr><td>2016-01-01 00:01:34</td><td>0.0</td><td>0.0</td></tr><tr><td>2016-01-01 00:01:36</td><td>0.0</td><td>0.0</td></tr><tr><td>2016-01-01 00:01:37</td><td>0.0</td><td>0.0</td></tr><tr><td>&hellip;</td><td>&hellip;</td><td>&hellip;</td></tr><tr><td>2016-01-29 09:32:28</td><td>0.0</td><td>0.0</td></tr><tr><td>2016-01-29 09:32:48</td><td>0.0</td><td>0.0</td></tr><tr><td>2016-01-29 09:33:58</td><td>0.0</td><td>0.0</td></tr><tr><td>2016-01-29 09:34:04</td><td>0.0</td><td>0.0</td></tr><tr><td>2016-01-29 15:55:10</td><td>0.0</td><td>0.0</td></tr></tbody></table></div>"
      ],
      "text/plain": [
       "shape: (170_212, 3)\n",
       "┌──────────────────────┬──────────────────┬─────────────────┐\n",
       "│ tpep_pickup_datetime ┆ pickup_longitude ┆ pickup_latitude │\n",
       "│ ---                  ┆ ---              ┆ ---             │\n",
       "│ datetime[μs]         ┆ f64              ┆ f64             │\n",
       "╞══════════════════════╪══════════════════╪═════════════════╡\n",
       "│ 2016-01-01 00:00:19  ┆ 0.0              ┆ 0.0             │\n",
       "│ 2016-01-01 00:00:41  ┆ 0.0              ┆ 0.0             │\n",
       "│ 2016-01-01 00:01:34  ┆ 0.0              ┆ 0.0             │\n",
       "│ 2016-01-01 00:01:36  ┆ 0.0              ┆ 0.0             │\n",
       "│ 2016-01-01 00:01:37  ┆ 0.0              ┆ 0.0             │\n",
       "│ …                    ┆ …                ┆ …               │\n",
       "│ 2016-01-29 09:32:28  ┆ 0.0              ┆ 0.0             │\n",
       "│ 2016-01-29 09:32:48  ┆ 0.0              ┆ 0.0             │\n",
       "│ 2016-01-29 09:33:58  ┆ 0.0              ┆ 0.0             │\n",
       "│ 2016-01-29 09:34:04  ┆ 0.0              ┆ 0.0             │\n",
       "│ 2016-01-29 15:55:10  ┆ 0.0              ┆ 0.0             │\n",
       "└──────────────────────┴──────────────────┴─────────────────┘"
      ]
     },
     "execution_count": 24,
     "metadata": {},
     "output_type": "execute_result"
    }
   ],
   "source": [
    "# Note that we have 170,212 entries in Jan data with 0.0, 0.0 that points to null island\n",
    "df_jan.filter((pl.col('pickup_longitude')==0.0) & (pl.col('pickup_latitude')==0.0))"
   ]
  },
  {
   "cell_type": "code",
   "execution_count": 25,
   "metadata": {},
   "outputs": [],
   "source": [
    "# Remove `null island` rows\n",
    "df_jan = df_jan.filter((pl.col('pickup_longitude')!=0.0) & (pl.col('pickup_latitude')!=0.0))"
   ]
  },
  {
   "cell_type": "code",
   "execution_count": 27,
   "metadata": {},
   "outputs": [],
   "source": [
    "# Set bounding box for NYC (reference:https://en.wikipedia.org/wiki/Module:Location_map/data/USA_New_York_City)\n",
    "nyc_top = 45.01550900568005\n",
    "nyc_bottom = 40.502009391283906\n",
    "nyc_left = -79.7633786294863\n",
    "nyc_right = -71.85616396303963\n",
    "\n",
    "df_jan = df_jan.filter(\n",
    "    ~(\n",
    "        (pl.col(\"pickup_latitude\") < nyc_bottom) |\n",
    "        (pl.col(\"pickup_latitude\") > nyc_top) |\n",
    "        (pl.col(\"pickup_longitude\") < nyc_left) |\n",
    "        (pl.col(\"pickup_longitude\") > nyc_right)\n",
    "    )\n",
    ")\n"
   ]
  },
  {
   "cell_type": "code",
   "execution_count": 29,
   "metadata": {},
   "outputs": [
    {
     "data": {
      "text/html": [
       "<div><style>\n",
       ".dataframe > thead > tr,\n",
       ".dataframe > tbody > tr {\n",
       "  text-align: right;\n",
       "  white-space: pre-wrap;\n",
       "}\n",
       "</style>\n",
       "<small>shape: (10_736_008, 3)</small><table border=\"1\" class=\"dataframe\"><thead><tr><th>tpep_pickup_datetime</th><th>pickup_longitude</th><th>pickup_latitude</th></tr><tr><td>datetime[μs]</td><td>f64</td><td>f64</td></tr></thead><tbody><tr><td>2016-01-01 00:00:00</td><td>-73.990372</td><td>40.734695</td></tr><tr><td>2016-01-01 00:00:00</td><td>-73.980782</td><td>40.729912</td></tr><tr><td>2016-01-01 00:00:00</td><td>-73.98455</td><td>40.679565</td></tr><tr><td>2016-01-01 00:00:00</td><td>-73.993469</td><td>40.71899</td></tr><tr><td>2016-01-01 00:00:00</td><td>-73.960625</td><td>40.78133</td></tr><tr><td>&hellip;</td><td>&hellip;</td><td>&hellip;</td></tr><tr><td>2016-01-31 23:30:32</td><td>-74.003578</td><td>40.751011</td></tr><tr><td>2016-01-05 00:15:55</td><td>-73.945488</td><td>40.75153</td></tr><tr><td>2016-01-05 06:12:46</td><td>-73.99424</td><td>40.766586</td></tr><tr><td>2016-01-05 06:21:44</td><td>-73.948067</td><td>40.776531</td></tr><tr><td>2016-01-05 06:15:21</td><td>-73.960938</td><td>40.758595</td></tr></tbody></table></div>"
      ],
      "text/plain": [
       "shape: (10_736_008, 3)\n",
       "┌──────────────────────┬──────────────────┬─────────────────┐\n",
       "│ tpep_pickup_datetime ┆ pickup_longitude ┆ pickup_latitude │\n",
       "│ ---                  ┆ ---              ┆ ---             │\n",
       "│ datetime[μs]         ┆ f64              ┆ f64             │\n",
       "╞══════════════════════╪══════════════════╪═════════════════╡\n",
       "│ 2016-01-01 00:00:00  ┆ -73.990372       ┆ 40.734695       │\n",
       "│ 2016-01-01 00:00:00  ┆ -73.980782       ┆ 40.729912       │\n",
       "│ 2016-01-01 00:00:00  ┆ -73.98455        ┆ 40.679565       │\n",
       "│ 2016-01-01 00:00:00  ┆ -73.993469       ┆ 40.71899        │\n",
       "│ 2016-01-01 00:00:00  ┆ -73.960625       ┆ 40.78133        │\n",
       "│ …                    ┆ …                ┆ …               │\n",
       "│ 2016-01-31 23:30:32  ┆ -74.003578       ┆ 40.751011       │\n",
       "│ 2016-01-05 00:15:55  ┆ -73.945488       ┆ 40.75153        │\n",
       "│ 2016-01-05 06:12:46  ┆ -73.99424        ┆ 40.766586       │\n",
       "│ 2016-01-05 06:21:44  ┆ -73.948067       ┆ 40.776531       │\n",
       "│ 2016-01-05 06:15:21  ┆ -73.960938       ┆ 40.758595       │\n",
       "└──────────────────────┴──────────────────┴─────────────────┘"
      ]
     },
     "execution_count": 29,
     "metadata": {},
     "output_type": "execute_result"
    }
   ],
   "source": [
    "df_jan"
   ]
  },
  {
   "cell_type": "markdown",
   "metadata": {},
   "source": [
    "Downsample to hourly intervals, and aggregate by datetime, location"
   ]
  },
  {
   "cell_type": "code",
   "execution_count": 30,
   "metadata": {},
   "outputs": [],
   "source": [
    "# sort `tpep_pickup_datetime` in ascending order\n",
    "df_jan = df_jan.sort('tpep_pickup_datetime')\n"
   ]
  },
  {
   "cell_type": "code",
   "execution_count": 31,
   "metadata": {},
   "outputs": [],
   "source": [
    "# set precision of `pickup_longitude` & `pickup_latitude` to 3 dp (neighbourhood/streets)\n",
    "df_jan = df_jan.with_columns(\n",
    "    pl.col(\"pickup_longitude\").round(3),\n",
    "    pl.col(\"pickup_latitude\").round(3),\n",
    ")"
   ]
  },
  {
   "cell_type": "code",
   "execution_count": 32,
   "metadata": {},
   "outputs": [],
   "source": [
    "# downsample to 1 hour and agg count of pickups by location, & hour. \n",
    "df_jan = df_jan.group_by_dynamic(\"tpep_pickup_datetime\", every=\"1h\", group_by=[\"pickup_longitude\", \"pickup_latitude\"]).agg(pl.len().alias(\"current_pickup_count\"))"
   ]
  },
  {
   "cell_type": "code",
   "execution_count": 33,
   "metadata": {},
   "outputs": [
    {
     "name": "stdout",
     "output_type": "stream",
     "text": [
      "744\n"
     ]
    }
   ],
   "source": [
    "# Checking categories of downsampled datetime, to identify missing entries\n",
    "# 24 hours * 31 days = 744, so we have all hours in Jan 2016 data\n",
    "hourly_value_counts = df_jan.select([\n",
    "    pl.col(\"tpep_pickup_datetime\").value_counts()\n",
    "])\n",
    "\n",
    "print(hourly_value_counts.shape[0])"
   ]
  },
  {
   "cell_type": "code",
   "execution_count": 34,
   "metadata": {},
   "outputs": [
    {
     "data": {
      "text/html": [
       "<div><style>\n",
       ".dataframe > thead > tr,\n",
       ".dataframe > tbody > tr {\n",
       "  text-align: right;\n",
       "  white-space: pre-wrap;\n",
       "}\n",
       "</style>\n",
       "<small>shape: (1_873_890, 4)</small><table border=\"1\" class=\"dataframe\"><thead><tr><th>pickup_longitude</th><th>pickup_latitude</th><th>tpep_pickup_datetime</th><th>current_pickup_count</th></tr><tr><td>f64</td><td>f64</td><td>datetime[μs]</td><td>u32</td></tr></thead><tbody><tr><td>-73.99</td><td>40.735</td><td>2016-01-01 00:00:00</td><td>18</td></tr><tr><td>-73.99</td><td>40.735</td><td>2016-01-01 01:00:00</td><td>24</td></tr><tr><td>-73.99</td><td>40.735</td><td>2016-01-01 02:00:00</td><td>29</td></tr><tr><td>-73.99</td><td>40.735</td><td>2016-01-01 03:00:00</td><td>19</td></tr><tr><td>-73.99</td><td>40.735</td><td>2016-01-01 04:00:00</td><td>15</td></tr><tr><td>&hellip;</td><td>&hellip;</td><td>&hellip;</td><td>&hellip;</td></tr><tr><td>-73.902</td><td>40.867</td><td>2016-01-31 22:00:00</td><td>1</td></tr><tr><td>-73.586</td><td>40.716</td><td>2016-01-31 23:00:00</td><td>1</td></tr><tr><td>-73.87</td><td>40.662</td><td>2016-01-31 23:00:00</td><td>1</td></tr><tr><td>-73.961</td><td>40.637</td><td>2016-01-31 23:00:00</td><td>1</td></tr><tr><td>-74.046</td><td>40.845</td><td>2016-01-31 23:00:00</td><td>1</td></tr></tbody></table></div>"
      ],
      "text/plain": [
       "shape: (1_873_890, 4)\n",
       "┌──────────────────┬─────────────────┬──────────────────────┬──────────────────────┐\n",
       "│ pickup_longitude ┆ pickup_latitude ┆ tpep_pickup_datetime ┆ current_pickup_count │\n",
       "│ ---              ┆ ---             ┆ ---                  ┆ ---                  │\n",
       "│ f64              ┆ f64             ┆ datetime[μs]         ┆ u32                  │\n",
       "╞══════════════════╪═════════════════╪══════════════════════╪══════════════════════╡\n",
       "│ -73.99           ┆ 40.735          ┆ 2016-01-01 00:00:00  ┆ 18                   │\n",
       "│ -73.99           ┆ 40.735          ┆ 2016-01-01 01:00:00  ┆ 24                   │\n",
       "│ -73.99           ┆ 40.735          ┆ 2016-01-01 02:00:00  ┆ 29                   │\n",
       "│ -73.99           ┆ 40.735          ┆ 2016-01-01 03:00:00  ┆ 19                   │\n",
       "│ -73.99           ┆ 40.735          ┆ 2016-01-01 04:00:00  ┆ 15                   │\n",
       "│ …                ┆ …               ┆ …                    ┆ …                    │\n",
       "│ -73.902          ┆ 40.867          ┆ 2016-01-31 22:00:00  ┆ 1                    │\n",
       "│ -73.586          ┆ 40.716          ┆ 2016-01-31 23:00:00  ┆ 1                    │\n",
       "│ -73.87           ┆ 40.662          ┆ 2016-01-31 23:00:00  ┆ 1                    │\n",
       "│ -73.961          ┆ 40.637          ┆ 2016-01-31 23:00:00  ┆ 1                    │\n",
       "│ -74.046          ┆ 40.845          ┆ 2016-01-31 23:00:00  ┆ 1                    │\n",
       "└──────────────────┴─────────────────┴──────────────────────┴──────────────────────┘"
      ]
     },
     "execution_count": 34,
     "metadata": {},
     "output_type": "execute_result"
    }
   ],
   "source": [
    "df_jan"
   ]
  },
  {
   "cell_type": "markdown",
   "metadata": {},
   "source": [
    "Now we repeat the same cleaning process for Feb and Mar 2016 data"
   ]
  },
  {
   "cell_type": "code",
   "execution_count": 106,
   "metadata": {},
   "outputs": [],
   "source": [
    "# define path\n",
    "feb_trip_path = './data/yellow_tripdata_2016-02.csv'\n",
    "mar_trip_path = './data/yellow_tripdata_2016-03.csv'"
   ]
  },
  {
   "cell_type": "code",
   "execution_count": 107,
   "metadata": {},
   "outputs": [],
   "source": [
    "# load data into polars DataFrame\n",
    "df_feb = pl.read_csv(feb_trip_path, try_parse_dates=True)\n",
    "df_mar = pl.read_csv(mar_trip_path, try_parse_dates=True)"
   ]
  },
  {
   "cell_type": "code",
   "execution_count": 108,
   "metadata": {},
   "outputs": [
    {
     "name": "stdout",
     "output_type": "stream",
     "text": [
      "Schema([('VendorID', Int64), ('tpep_pickup_datetime', Datetime(time_unit='us', time_zone=None)), ('tpep_dropoff_datetime', Datetime(time_unit='us', time_zone=None)), ('passenger_count', Int64), ('trip_distance', Float64), ('pickup_longitude', Float64), ('pickup_latitude', Float64), ('RatecodeID', Int64), ('store_and_fwd_flag', String), ('dropoff_longitude', Float64), ('dropoff_latitude', Float64), ('payment_type', Int64), ('fare_amount', Float64), ('extra', Float64), ('mta_tax', Float64), ('tip_amount', Float64), ('tolls_amount', Float64), ('improvement_surcharge', Float64), ('total_amount', Float64)])\n",
      "Schema([('VendorID', Int64), ('tpep_pickup_datetime', Datetime(time_unit='us', time_zone=None)), ('tpep_dropoff_datetime', Datetime(time_unit='us', time_zone=None)), ('passenger_count', Int64), ('trip_distance', Float64), ('pickup_longitude', Float64), ('pickup_latitude', Float64), ('RatecodeID', Int64), ('store_and_fwd_flag', String), ('dropoff_longitude', Float64), ('dropoff_latitude', Float64), ('payment_type', Int64), ('fare_amount', Float64), ('extra', Float64), ('mta_tax', Float64), ('tip_amount', Float64), ('tolls_amount', Float64), ('improvement_surcharge', Float64), ('total_amount', Float64)])\n"
     ]
    }
   ],
   "source": [
    "# Inspect schema for Feb 2016 and Mar 2016\n",
    "print(df_feb.schema)\n",
    "print(df_mar.schema)"
   ]
  },
  {
   "cell_type": "code",
   "execution_count": 109,
   "metadata": {},
   "outputs": [],
   "source": [
    "# Instantiate cleaning pipeline for feb and mar data\n",
    "clean_feb = clean_data.CleanData(df=df_feb,\n",
    "                                 cols_to_keep=priority_columns,\n",
    "                                 pickup_datetime_col='tpep_pickup_datetime'\n",
    "                                )\n",
    "\n",
    "clean_mar = clean_data.CleanData(df=df_mar,\n",
    "                                 cols_to_keep=priority_columns,\n",
    "                                 pickup_datetime_col='tpep_pickup_datetime'\n",
    "                                )"
   ]
  },
  {
   "cell_type": "code",
   "execution_count": null,
   "metadata": {},
   "outputs": [
    {
     "name": "stderr",
     "output_type": "stream",
     "text": [
      "2025-01-13 14:59:12,283 - INFO - select_columns - df shape after keeping priority cols: (11382049, 3)\n",
      "2025-01-13 14:59:12,307 - INFO - remove_null_island - df shape after removing nulls: (11205215, 3)\n",
      "2025-01-13 14:59:12,308 - INFO - remove_null_island - removed 176834 null island rows\n",
      "2025-01-13 14:59:12,320 - INFO - remove_outside_ny - df shape after keeping priority cols: (11204861, 3)\n",
      "2025-01-13 14:59:12,320 - INFO - remove_outside_ny - Removed 354 rows outside New York\n",
      "2025-01-13 14:59:12,320 - INFO - downsample_1h - Downsampling into 1h intervals and aggregating hourly pickup count by location\n",
      "2025-01-13 14:59:12,964 - INFO - clean_pipeline - Cleaning completed, current shape of df: (1865730, 4)\n"
     ]
    }
   ],
   "source": [
    "# Clean feb 2016 data\n",
    "df_feb = clean_feb.clean_pipeline()"
   ]
  },
  {
   "cell_type": "code",
   "execution_count": 113,
   "metadata": {},
   "outputs": [
    {
     "name": "stderr",
     "output_type": "stream",
     "text": [
      "2025-01-13 15:09:25,221 - INFO - select_columns - df shape after keeping priority cols: (12210952, 3)\n"
     ]
    },
    {
     "name": "stderr",
     "output_type": "stream",
     "text": [
      "2025-01-13 15:09:25,271 - INFO - remove_null_island - df shape after removing nulls: (12028951, 3)\n",
      "2025-01-13 15:09:25,272 - INFO - remove_null_island - removed 182001 null island rows\n",
      "2025-01-13 15:09:25,285 - INFO - remove_outside_ny - df shape after keeping priority cols: (12028542, 3)\n",
      "2025-01-13 15:09:25,286 - INFO - remove_outside_ny - Removed 409 rows outside New York\n",
      "2025-01-13 15:09:25,286 - INFO - downsample_1h - Downsampling into 1h intervals and aggregating hourly pickup count by location\n",
      "2025-01-13 15:09:26,066 - INFO - clean_pipeline - Cleaning completed, current shape of df: (2008811, 4)\n"
     ]
    }
   ],
   "source": [
    "# Clean mar 2016 data\n",
    "df_mar = clean_mar.clean_pipeline() "
   ]
  },
  {
   "cell_type": "markdown",
   "metadata": {},
   "source": [
    "Check unique values of hourly timestamps in Feb and Mar 2016"
   ]
  },
  {
   "cell_type": "code",
   "execution_count": 114,
   "metadata": {},
   "outputs": [
    {
     "name": "stdout",
     "output_type": "stream",
     "text": [
      "696\n"
     ]
    }
   ],
   "source": [
    "# 29 days * 24 hours = 696\n",
    "# There are 696 hourly intervals for month of Feb 2016\n",
    "hourly_value_counts = df_feb.select([\n",
    "    pl.col(\"tpep_pickup_datetime\").value_counts()\n",
    "])\n",
    "\n",
    "print(hourly_value_counts.shape[0])"
   ]
  },
  {
   "cell_type": "code",
   "execution_count": 116,
   "metadata": {},
   "outputs": [
    {
     "name": "stdout",
     "output_type": "stream",
     "text": [
      "744\n"
     ]
    }
   ],
   "source": [
    "# 29 days * 24 hours = 696\n",
    "# There are 696 hourly intervals for month of Feb 2016\n",
    "hourly_value_counts = df_mar.select([\n",
    "    pl.col(\"tpep_pickup_datetime\").value_counts()\n",
    "])\n",
    "\n",
    "print(hourly_value_counts.shape[0])"
   ]
  },
  {
   "cell_type": "markdown",
   "metadata": {},
   "source": [
    "Concatenate jan, feb and mar together "
   ]
  },
  {
   "cell_type": "code",
   "execution_count": 117,
   "metadata": {},
   "outputs": [],
   "source": [
    "# Concatenate datasets \n",
    "df = pl.concat(\n",
    "    [df_jan, df_feb, df_mar]\n",
    ")"
   ]
  },
  {
   "cell_type": "code",
   "execution_count": 122,
   "metadata": {},
   "outputs": [
    {
     "name": "stdout",
     "output_type": "stream",
     "text": [
      "Combined cleaned dataset has: 5,748,431 rows\n",
      "Combined cleaned dataset has: 4 cols\n"
     ]
    }
   ],
   "source": [
    "# Inspect shape\n",
    "print(f'Combined cleaned dataset has: {df.shape[0]:,} rows')\n",
    "print(f'Combined cleaned dataset has: {df.shape[1]} cols')"
   ]
  },
  {
   "cell_type": "code",
   "execution_count": 123,
   "metadata": {},
   "outputs": [],
   "source": [
    "# Save data to ./data folder\n",
    "path = \"./data/combined_cleaned_dataset.csv\"\n",
    "df.write_csv(path, separator=\",\")"
   ]
  },
  {
   "cell_type": "markdown",
   "metadata": {},
   "source": [
    "#### EDA"
   ]
  },
  {
   "cell_type": "markdown",
   "metadata": {},
   "source": [
    "Load data"
   ]
  },
  {
   "cell_type": "code",
   "execution_count": 3,
   "metadata": {},
   "outputs": [],
   "source": [
    "path = './data/combined_cleaned_dataset.csv'\n",
    "df = pl.read_csv(path, try_parse_dates=True)"
   ]
  },
  {
   "cell_type": "code",
   "execution_count": 18,
   "metadata": {},
   "outputs": [
    {
     "data": {
      "text/html": [
       "<div><style>\n",
       ".dataframe > thead > tr,\n",
       ".dataframe > tbody > tr {\n",
       "  text-align: right;\n",
       "  white-space: pre-wrap;\n",
       "}\n",
       "</style>\n",
       "<small>shape: (5, 4)</small><table border=\"1\" class=\"dataframe\"><thead><tr><th>pickup_longitude</th><th>pickup_latitude</th><th>tpep_pickup_datetime</th><th>current_pickup_count</th></tr><tr><td>f64</td><td>f64</td><td>datetime[μs]</td><td>i64</td></tr></thead><tbody><tr><td>-73.99</td><td>40.735</td><td>2016-01-01 00:00:00</td><td>18</td></tr><tr><td>-73.99</td><td>40.735</td><td>2016-01-01 01:00:00</td><td>24</td></tr><tr><td>-73.99</td><td>40.735</td><td>2016-01-01 02:00:00</td><td>29</td></tr><tr><td>-73.99</td><td>40.735</td><td>2016-01-01 03:00:00</td><td>19</td></tr><tr><td>-73.99</td><td>40.735</td><td>2016-01-01 04:00:00</td><td>15</td></tr></tbody></table></div>"
      ],
      "text/plain": [
       "shape: (5, 4)\n",
       "┌──────────────────┬─────────────────┬──────────────────────┬──────────────────────┐\n",
       "│ pickup_longitude ┆ pickup_latitude ┆ tpep_pickup_datetime ┆ current_pickup_count │\n",
       "│ ---              ┆ ---             ┆ ---                  ┆ ---                  │\n",
       "│ f64              ┆ f64             ┆ datetime[μs]         ┆ i64                  │\n",
       "╞══════════════════╪═════════════════╪══════════════════════╪══════════════════════╡\n",
       "│ -73.99           ┆ 40.735          ┆ 2016-01-01 00:00:00  ┆ 18                   │\n",
       "│ -73.99           ┆ 40.735          ┆ 2016-01-01 01:00:00  ┆ 24                   │\n",
       "│ -73.99           ┆ 40.735          ┆ 2016-01-01 02:00:00  ┆ 29                   │\n",
       "│ -73.99           ┆ 40.735          ┆ 2016-01-01 03:00:00  ┆ 19                   │\n",
       "│ -73.99           ┆ 40.735          ┆ 2016-01-01 04:00:00  ┆ 15                   │\n",
       "└──────────────────┴─────────────────┴──────────────────────┴──────────────────────┘"
      ]
     },
     "execution_count": 18,
     "metadata": {},
     "output_type": "execute_result"
    }
   ],
   "source": [
    "df.head()"
   ]
  },
  {
   "cell_type": "code",
   "execution_count": 19,
   "metadata": {},
   "outputs": [
    {
     "data": {
      "image/png": "[encoded data removed]",
      "text/plain": [
       "<Figure size 640x480 with 1 Axes>"
      ]
     },
     "metadata": {},
     "output_type": "display_data"
    }
   ],
   "source": [
    "plt.hist(df['current_pickup_count'], bins=200)\n",
    " \n",
    "# Adding labels and title\n",
    "plt.xlabel('current pickup count')\n",
    "plt.ylabel('frequency')\n",
    "plt.title('histogram of current pickup count')\n",
    " \n",
    "# Display the plot\n",
    "plt.show()"
   ]
  },
  {
   "cell_type": "markdown",
   "metadata": {},
   "source": [
    "#### Feature Engineering"
   ]
  },
  {
   "cell_type": "markdown",
   "metadata": {},
   "source": [
    "Create a column `is_weekend` which is either 1 or 0 if `tpep_pickup_datetime` is weekend"
   ]
  },
  {
   "cell_type": "code",
   "execution_count": 4,
   "metadata": {},
   "outputs": [],
   "source": [
    "df = df.with_columns(\n",
    "    pl.when(pl.col(\"tpep_pickup_datetime\").dt.weekday()==6)\n",
    "    .then(1)\n",
    "    .when(pl.col(\"tpep_pickup_datetime\").dt.weekday()==7)\n",
    "    .then(1)\n",
    "    .otherwise(0)\n",
    "    .alias(\"is_weekend\")\n",
    ")"
   ]
  },
  {
   "cell_type": "markdown",
   "metadata": {},
   "source": [
    "Create a column `day_of_week` which varies from 1 to 7 "
   ]
  },
  {
   "cell_type": "code",
   "execution_count": 5,
   "metadata": {},
   "outputs": [],
   "source": [
    "df = df.with_columns(\n",
    "    pl.col(\"tpep_pickup_datetime\").dt.weekday().alias(\"day_of_week\")\n",
    ")"
   ]
  },
  {
   "cell_type": "markdown",
   "metadata": {},
   "source": [
    "Create a column `hour_of_day` "
   ]
  },
  {
   "cell_type": "code",
   "execution_count": 6,
   "metadata": {},
   "outputs": [],
   "source": [
    "df = df.with_columns(\n",
    "    pl.col(\"tpep_pickup_datetime\").dt.hour().alias(\"hour_of_day\")\n",
    ")"
   ]
  },
  {
   "cell_type": "code",
   "execution_count": 7,
   "metadata": {},
   "outputs": [
    {
     "data": {
      "text/html": [
       "<div><style>\n",
       ".dataframe > thead > tr,\n",
       ".dataframe > tbody > tr {\n",
       "  text-align: right;\n",
       "  white-space: pre-wrap;\n",
       "}\n",
       "</style>\n",
       "<small>shape: (10, 7)</small><table border=\"1\" class=\"dataframe\"><thead><tr><th>pickup_longitude</th><th>pickup_latitude</th><th>tpep_pickup_datetime</th><th>current_pickup_count</th><th>is_weekend</th><th>day_of_week</th><th>hour_of_day</th></tr><tr><td>f64</td><td>f64</td><td>datetime[μs]</td><td>i64</td><td>i32</td><td>i8</td><td>i8</td></tr></thead><tbody><tr><td>-73.985</td><td>40.756</td><td>2016-01-17 04:00:00</td><td>12</td><td>1</td><td>7</td><td>4</td></tr><tr><td>-73.955</td><td>40.79</td><td>2016-01-15 16:00:00</td><td>1</td><td>0</td><td>5</td><td>16</td></tr><tr><td>-73.998</td><td>40.761</td><td>2016-03-10 01:00:00</td><td>4</td><td>0</td><td>4</td><td>1</td></tr><tr><td>-73.964</td><td>40.783</td><td>2016-01-19 19:00:00</td><td>1</td><td>0</td><td>2</td><td>19</td></tr><tr><td>-73.952</td><td>40.824</td><td>2016-02-28 22:00:00</td><td>1</td><td>1</td><td>7</td><td>22</td></tr><tr><td>-74.015</td><td>40.715</td><td>2016-01-21 11:00:00</td><td>4</td><td>0</td><td>4</td><td>11</td></tr><tr><td>-74.007</td><td>40.717</td><td>2016-01-05 14:00:00</td><td>1</td><td>0</td><td>2</td><td>14</td></tr><tr><td>-74.001</td><td>40.756</td><td>2016-01-09 15:00:00</td><td>5</td><td>1</td><td>6</td><td>15</td></tr><tr><td>-74.009</td><td>40.739</td><td>2016-03-25 11:00:00</td><td>6</td><td>0</td><td>5</td><td>11</td></tr><tr><td>-73.994</td><td>40.714</td><td>2016-03-10 17:00:00</td><td>1</td><td>0</td><td>4</td><td>17</td></tr></tbody></table></div>"
      ],
      "text/plain": [
       "shape: (10, 7)\n",
       "┌──────────────┬──────────────┬─────────────┬─────────────┬────────────┬─────────────┬─────────────┐\n",
       "│ pickup_longi ┆ pickup_latit ┆ tpep_pickup ┆ current_pic ┆ is_weekend ┆ day_of_week ┆ hour_of_day │\n",
       "│ tude         ┆ ude          ┆ _datetime   ┆ kup_count   ┆ ---        ┆ ---         ┆ ---         │\n",
       "│ ---          ┆ ---          ┆ ---         ┆ ---         ┆ i32        ┆ i8          ┆ i8          │\n",
       "│ f64          ┆ f64          ┆ datetime[μs ┆ i64         ┆            ┆             ┆             │\n",
       "│              ┆              ┆ ]           ┆             ┆            ┆             ┆             │\n",
       "╞══════════════╪══════════════╪═════════════╪═════════════╪════════════╪═════════════╪═════════════╡\n",
       "│ -73.985      ┆ 40.756       ┆ 2016-01-17  ┆ 12          ┆ 1          ┆ 7           ┆ 4           │\n",
       "│              ┆              ┆ 04:00:00    ┆             ┆            ┆             ┆             │\n",
       "│ -73.955      ┆ 40.79        ┆ 2016-01-15  ┆ 1           ┆ 0          ┆ 5           ┆ 16          │\n",
       "│              ┆              ┆ 16:00:00    ┆             ┆            ┆             ┆             │\n",
       "│ -73.998      ┆ 40.761       ┆ 2016-03-10  ┆ 4           ┆ 0          ┆ 4           ┆ 1           │\n",
       "│              ┆              ┆ 01:00:00    ┆             ┆            ┆             ┆             │\n",
       "│ -73.964      ┆ 40.783       ┆ 2016-01-19  ┆ 1           ┆ 0          ┆ 2           ┆ 19          │\n",
       "│              ┆              ┆ 19:00:00    ┆             ┆            ┆             ┆             │\n",
       "│ -73.952      ┆ 40.824       ┆ 2016-02-28  ┆ 1           ┆ 1          ┆ 7           ┆ 22          │\n",
       "│              ┆              ┆ 22:00:00    ┆             ┆            ┆             ┆             │\n",
       "│ -74.015      ┆ 40.715       ┆ 2016-01-21  ┆ 4           ┆ 0          ┆ 4           ┆ 11          │\n",
       "│              ┆              ┆ 11:00:00    ┆             ┆            ┆             ┆             │\n",
       "│ -74.007      ┆ 40.717       ┆ 2016-01-05  ┆ 1           ┆ 0          ┆ 2           ┆ 14          │\n",
       "│              ┆              ┆ 14:00:00    ┆             ┆            ┆             ┆             │\n",
       "│ -74.001      ┆ 40.756       ┆ 2016-01-09  ┆ 5           ┆ 1          ┆ 6           ┆ 15          │\n",
       "│              ┆              ┆ 15:00:00    ┆             ┆            ┆             ┆             │\n",
       "│ -74.009      ┆ 40.739       ┆ 2016-03-25  ┆ 6           ┆ 0          ┆ 5           ┆ 11          │\n",
       "│              ┆              ┆ 11:00:00    ┆             ┆            ┆             ┆             │\n",
       "│ -73.994      ┆ 40.714       ┆ 2016-03-10  ┆ 1           ┆ 0          ┆ 4           ┆ 17          │\n",
       "│              ┆              ┆ 17:00:00    ┆             ┆            ┆             ┆             │\n",
       "└──────────────┴──────────────┴─────────────┴─────────────┴────────────┴─────────────┴─────────────┘"
      ]
     },
     "execution_count": 7,
     "metadata": {},
     "output_type": "execute_result"
    }
   ],
   "source": [
    "df.sample(n=10, seed=42)"
   ]
  },
  {
   "cell_type": "markdown",
   "metadata": {},
   "source": [
    "Incorporate Weather information by creating temperature and precipitation columns"
   ]
  },
  {
   "cell_type": "markdown",
   "metadata": {},
   "source": [
    "In `src/query_weather.py`, I used 40.7128° N, 74.0060° W as New York location to query the hourly weather for New York, generate the dataset `data/ny_weather_dataset.csv`"
   ]
  },
  {
   "cell_type": "code",
   "execution_count": 8,
   "metadata": {},
   "outputs": [],
   "source": [
    "filepath = \"./data/ny_weather_dataset.csv\"\n",
    "weather_data = pl.read_csv(filepath, try_parse_dates=True)"
   ]
  },
  {
   "cell_type": "code",
   "execution_count": 9,
   "metadata": {},
   "outputs": [],
   "source": [
    "# select temperature, precipitation (rainfall) and snow\n",
    "weather_data = weather_data.select(\n",
    "    pl.col(\"time\"),\n",
    "    pl.col(\"temp\"),\n",
    "    pl.col(\"prcp\"),\n",
    ")"
   ]
  },
  {
   "cell_type": "code",
   "execution_count": 10,
   "metadata": {},
   "outputs": [
    {
     "data": {
      "text/html": [
       "<div><style>\n",
       ".dataframe > thead > tr,\n",
       ".dataframe > tbody > tr {\n",
       "  text-align: right;\n",
       "  white-space: pre-wrap;\n",
       "}\n",
       "</style>\n",
       "<small>shape: (50, 3)</small><table border=\"1\" class=\"dataframe\"><thead><tr><th>time</th><th>temp</th><th>prcp</th></tr><tr><td>datetime[μs]</td><td>f64</td><td>f64</td></tr></thead><tbody><tr><td>2016-01-01 00:00:00</td><td>7.2</td><td>null</td></tr><tr><td>2016-01-10 06:00:00</td><td>8.9</td><td>null</td></tr><tr><td>2016-01-10 07:00:00</td><td>8.9</td><td>null</td></tr><tr><td>2016-01-12 22:00:00</td><td>2.0</td><td>null</td></tr><tr><td>2016-01-14 11:00:00</td><td>-5.0</td><td>null</td></tr><tr><td>2016-01-14 12:00:00</td><td>-5.0</td><td>null</td></tr><tr><td>2016-01-16 06:00:00</td><td>6.7</td><td>null</td></tr><tr><td>2016-01-17 20:00:00</td><td>1.1</td><td>null</td></tr><tr><td>2016-01-18 01:00:00</td><td>-0.6</td><td>null</td></tr><tr><td>2016-01-18 12:00:00</td><td>-4.4</td><td>null</td></tr><tr><td>2016-01-23 04:00:00</td><td>-3.3</td><td>null</td></tr><tr><td>2016-01-24 07:00:00</td><td>-2.2</td><td>null</td></tr><tr><td>2016-01-26 16:00:00</td><td>4.4</td><td>null</td></tr><tr><td>2016-01-29 16:00:00</td><td>3.3</td><td>null</td></tr><tr><td>2016-02-01 23:00:00</td><td>10.6</td><td>null</td></tr><tr><td>2016-02-04 11:00:00</td><td>12.8</td><td>null</td></tr><tr><td>2016-02-05 07:00:00</td><td>4.4</td><td>null</td></tr><tr><td>2016-02-08 23:00:00</td><td>0.6</td><td>null</td></tr><tr><td>2016-02-09 00:00:00</td><td>0.6</td><td>null</td></tr><tr><td>2016-02-09 01:00:00</td><td>-0.6</td><td>null</td></tr><tr><td>2016-02-09 02:00:00</td><td>-0.6</td><td>null</td></tr><tr><td>2016-02-09 03:00:00</td><td>-1.1</td><td>null</td></tr><tr><td>2016-02-09 06:00:00</td><td>-1.1</td><td>null</td></tr><tr><td>2016-02-09 09:00:00</td><td>-1.7</td><td>null</td></tr><tr><td>2016-02-09 10:00:00</td><td>-1.7</td><td>null</td></tr><tr><td>2016-02-10 03:00:00</td><td>0.0</td><td>null</td></tr><tr><td>2016-02-10 07:00:00</td><td>0.0</td><td>null</td></tr><tr><td>2016-02-10 08:00:00</td><td>0.0</td><td>null</td></tr><tr><td>2016-02-11 07:00:00</td><td>-2.8</td><td>null</td></tr><tr><td>2016-02-11 08:00:00</td><td>-3.3</td><td>null</td></tr><tr><td>2016-02-22 00:00:00</td><td>10.6</td><td>null</td></tr><tr><td>2016-02-24 00:00:00</td><td>2.8</td><td>null</td></tr><tr><td>2016-02-25 21:00:00</td><td>6.7</td><td>null</td></tr><tr><td>2016-03-02 07:00:00</td><td>13.3</td><td>null</td></tr><tr><td>2016-03-11 08:00:00</td><td>15.0</td><td>null</td></tr><tr><td>2016-03-11 10:00:00</td><td>14.4</td><td>null</td></tr><tr><td>2016-03-14 02:00:00</td><td>11.7</td><td>null</td></tr><tr><td>2016-03-14 03:00:00</td><td>11.1</td><td>null</td></tr><tr><td>2016-03-14 04:00:00</td><td>10.6</td><td>null</td></tr><tr><td>2016-03-14 05:00:00</td><td>10.6</td><td>null</td></tr><tr><td>2016-03-14 06:00:00</td><td>10.6</td><td>null</td></tr><tr><td>2016-03-14 08:00:00</td><td>10.0</td><td>null</td></tr><tr><td>2016-03-15 05:00:00</td><td>7.2</td><td>null</td></tr><tr><td>2016-03-15 06:00:00</td><td>7.8</td><td>null</td></tr><tr><td>2016-03-15 07:00:00</td><td>7.8</td><td>null</td></tr><tr><td>2016-03-15 11:00:00</td><td>7.2</td><td>null</td></tr><tr><td>2016-03-20 23:00:00</td><td>3.9</td><td>null</td></tr><tr><td>2016-03-21 00:00:00</td><td>3.9</td><td>null</td></tr><tr><td>2016-03-21 10:00:00</td><td>0.6</td><td>null</td></tr><tr><td>2016-03-25 11:00:00</td><td>10.0</td><td>null</td></tr></tbody></table></div>"
      ],
      "text/plain": [
       "shape: (50, 3)\n",
       "┌─────────────────────┬──────┬──────┐\n",
       "│ time                ┆ temp ┆ prcp │\n",
       "│ ---                 ┆ ---  ┆ ---  │\n",
       "│ datetime[μs]        ┆ f64  ┆ f64  │\n",
       "╞═════════════════════╪══════╪══════╡\n",
       "│ 2016-01-01 00:00:00 ┆ 7.2  ┆ null │\n",
       "│ 2016-01-10 06:00:00 ┆ 8.9  ┆ null │\n",
       "│ 2016-01-10 07:00:00 ┆ 8.9  ┆ null │\n",
       "│ 2016-01-12 22:00:00 ┆ 2.0  ┆ null │\n",
       "│ 2016-01-14 11:00:00 ┆ -5.0 ┆ null │\n",
       "│ 2016-01-14 12:00:00 ┆ -5.0 ┆ null │\n",
       "│ 2016-01-16 06:00:00 ┆ 6.7  ┆ null │\n",
       "│ 2016-01-17 20:00:00 ┆ 1.1  ┆ null │\n",
       "│ 2016-01-18 01:00:00 ┆ -0.6 ┆ null │\n",
       "│ 2016-01-18 12:00:00 ┆ -4.4 ┆ null │\n",
       "│ 2016-01-23 04:00:00 ┆ -3.3 ┆ null │\n",
       "│ 2016-01-24 07:00:00 ┆ -2.2 ┆ null │\n",
       "│ 2016-01-26 16:00:00 ┆ 4.4  ┆ null │\n",
       "│ 2016-01-29 16:00:00 ┆ 3.3  ┆ null │\n",
       "│ 2016-02-01 23:00:00 ┆ 10.6 ┆ null │\n",
       "│ 2016-02-04 11:00:00 ┆ 12.8 ┆ null │\n",
       "│ 2016-02-05 07:00:00 ┆ 4.4  ┆ null │\n",
       "│ 2016-02-08 23:00:00 ┆ 0.6  ┆ null │\n",
       "│ 2016-02-09 00:00:00 ┆ 0.6  ┆ null │\n",
       "│ 2016-02-09 01:00:00 ┆ -0.6 ┆ null │\n",
       "│ 2016-02-09 02:00:00 ┆ -0.6 ┆ null │\n",
       "│ 2016-02-09 03:00:00 ┆ -1.1 ┆ null │\n",
       "│ 2016-02-09 06:00:00 ┆ -1.1 ┆ null │\n",
       "│ 2016-02-09 09:00:00 ┆ -1.7 ┆ null │\n",
       "│ 2016-02-09 10:00:00 ┆ -1.7 ┆ null │\n",
       "│ 2016-02-10 03:00:00 ┆ 0.0  ┆ null │\n",
       "│ 2016-02-10 07:00:00 ┆ 0.0  ┆ null │\n",
       "│ 2016-02-10 08:00:00 ┆ 0.0  ┆ null │\n",
       "│ 2016-02-11 07:00:00 ┆ -2.8 ┆ null │\n",
       "│ 2016-02-11 08:00:00 ┆ -3.3 ┆ null │\n",
       "│ 2016-02-22 00:00:00 ┆ 10.6 ┆ null │\n",
       "│ 2016-02-24 00:00:00 ┆ 2.8  ┆ null │\n",
       "│ 2016-02-25 21:00:00 ┆ 6.7  ┆ null │\n",
       "│ 2016-03-02 07:00:00 ┆ 13.3 ┆ null │\n",
       "│ 2016-03-11 08:00:00 ┆ 15.0 ┆ null │\n",
       "│ 2016-03-11 10:00:00 ┆ 14.4 ┆ null │\n",
       "│ 2016-03-14 02:00:00 ┆ 11.7 ┆ null │\n",
       "│ 2016-03-14 03:00:00 ┆ 11.1 ┆ null │\n",
       "│ 2016-03-14 04:00:00 ┆ 10.6 ┆ null │\n",
       "│ 2016-03-14 05:00:00 ┆ 10.6 ┆ null │\n",
       "│ 2016-03-14 06:00:00 ┆ 10.6 ┆ null │\n",
       "│ 2016-03-14 08:00:00 ┆ 10.0 ┆ null │\n",
       "│ 2016-03-15 05:00:00 ┆ 7.2  ┆ null │\n",
       "│ 2016-03-15 06:00:00 ┆ 7.8  ┆ null │\n",
       "│ 2016-03-15 07:00:00 ┆ 7.8  ┆ null │\n",
       "│ 2016-03-15 11:00:00 ┆ 7.2  ┆ null │\n",
       "│ 2016-03-20 23:00:00 ┆ 3.9  ┆ null │\n",
       "│ 2016-03-21 00:00:00 ┆ 3.9  ┆ null │\n",
       "│ 2016-03-21 10:00:00 ┆ 0.6  ┆ null │\n",
       "│ 2016-03-25 11:00:00 ┆ 10.0 ┆ null │\n",
       "└─────────────────────┴──────┴──────┘"
      ]
     },
     "execution_count": 10,
     "metadata": {},
     "output_type": "execute_result"
    }
   ],
   "source": [
    "# Inspect nulls for precipitation\n",
    "pl.Config(tbl_rows=50)\n",
    "weather_data.filter(pl.col(\"prcp\").is_null())"
   ]
  },
  {
   "cell_type": "code",
   "execution_count": 11,
   "metadata": {},
   "outputs": [],
   "source": [
    "# Since nulls are only for short sporadic periods, we can use front fill and back fill strategy\n",
    "\n",
    "weather_data = weather_data.with_columns(\n",
    "    pl.col(\"prcp\").fill_null(strategy=\"forward\")\n",
    ")\n",
    "weather_data = weather_data.with_columns(\n",
    "    pl.col(\"prcp\").fill_null(strategy=\"backward\")\n",
    ")\n"
   ]
  },
  {
   "cell_type": "code",
   "execution_count": 12,
   "metadata": {},
   "outputs": [],
   "source": [
    "# Save the cleaned weather data set into ./data\n",
    "filepath = \"./data/ny_weather_dataset_cleaned.csv\"\n",
    "weather_data.write_csv(filepath, separator=\",\")"
   ]
  },
  {
   "cell_type": "code",
   "execution_count": 13,
   "metadata": {},
   "outputs": [],
   "source": [
    "# Join df and weather\n",
    "df = df.join(weather_data,\n",
    "        how='left',\n",
    "        left_on='tpep_pickup_datetime',\n",
    "        right_on='time',\n",
    "        coalesce=True      \n",
    ")"
   ]
  },
  {
   "cell_type": "markdown",
   "metadata": {},
   "source": [
    "Encode geohash with `pickup_geohash` column"
   ]
  },
  {
   "cell_type": "code",
   "execution_count": 14,
   "metadata": {},
   "outputs": [],
   "source": [
    "def encode_geohash(lat_lon_dict: dict, precision: int = 7) -> str:\n",
    "    lat, lon = float(lat_lon_dict[\"pickup_latitude\"]), float(lat_lon_dict[\"pickup_longitude\"])\n",
    "    return geohash2.encode(lat, lon, precision=precision)\n",
    "\n",
    "df = df.with_columns(\n",
    "    pl.struct([\"pickup_latitude\", \"pickup_longitude\"]).\n",
    "    map_elements(encode_geohash, return_dtype=pl.String).\n",
    "    alias(\"pickup_geohash\")\n",
    ")"
   ]
  },
  {
   "cell_type": "markdown",
   "metadata": {},
   "source": [
    "Create target variable `target_pickup_count`, which is the next hour's pickup_count"
   ]
  },
  {
   "cell_type": "code",
   "execution_count": 15,
   "metadata": {},
   "outputs": [],
   "source": [
    "# Create a leading variable and remove the last null row\n",
    "df = df.with_columns(\n",
    "    pl.col(\"current_pickup_count\").shift(-1).\\\n",
    "        over([\"pickup_latitude\",\"pickup_longitude\"], order_by=\"tpep_pickup_datetime\").\\\n",
    "        alias(\"target_pickup_count\")\n",
    ")\n"
   ]
  },
  {
   "cell_type": "code",
   "execution_count": 16,
   "metadata": {},
   "outputs": [],
   "source": [
    "# remove null rows\n",
    "df = df.filter(df[\"target_pickup_count\"].is_not_null())"
   ]
  },
  {
   "cell_type": "markdown",
   "metadata": {},
   "source": [
    "Create `month` column"
   ]
  },
  {
   "cell_type": "code",
   "execution_count": 21,
   "metadata": {},
   "outputs": [],
   "source": [
    "df = df.with_columns(\n",
    "    pl.col(\"tpep_pickup_datetime\").dt.month().alias(\"month\")\n",
    ")"
   ]
  },
  {
   "cell_type": "markdown",
   "metadata": {},
   "source": [
    "Create `day_of_month` column"
   ]
  },
  {
   "cell_type": "code",
   "execution_count": 23,
   "metadata": {},
   "outputs": [],
   "source": [
    "df = df.with_columns(\n",
    "    pl.col(\"tpep_pickup_datetime\").dt.day().alias(\"day_of_month\")\n",
    ")"
   ]
  },
  {
   "cell_type": "code",
   "execution_count": 26,
   "metadata": {},
   "outputs": [],
   "source": [
    "# save df to dataset\n",
    "filepath = \"./data/feature_engineered_dataset.csv\"\n",
    "df.write_csv(filepath, separator=\",\")"
   ]
  }
 ],
 "metadata": {
  "kernelspec": {
   "display_name": "taxi_demand",
   "language": "python",
   "name": "python3"
  },
  "language_info": {
   "codemirror_mode": {
    "name": "ipython",
    "version": 3
   },
   "file_extension": ".py",
   "mimetype": "text/x-python",
   "name": "python",
   "nbconvert_exporter": "python",
   "pygments_lexer": "ipython3",
   "version": "3.11.11"
  }
 },
 "nbformat": 4,
 "nbformat_minor": 2
}
